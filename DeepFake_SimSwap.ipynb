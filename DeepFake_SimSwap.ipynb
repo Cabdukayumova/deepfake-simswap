{
  "nbformat": 4,
  "nbformat_minor": 0,
  "metadata": {
    "colab": {
      "provenance": []
    },
    "kernelspec": {
      "name": "python3",
      "display_name": "Python 3"
    },
    "language_info": {
      "name": "python"
    }
  },
  "cells": [
    {
      "cell_type": "markdown",
      "source": [
        "# 0. Prepare environment"
      ],
      "metadata": {
        "id": "cVTjwgtWV5Vc"
      }
    },
    {
      "cell_type": "markdown",
      "source": [
        "Clone SimSwap repository"
      ],
      "metadata": {
        "id": "t_ysjLo2WF7U"
      }
    },
    {
      "cell_type": "code",
      "execution_count": null,
      "metadata": {
        "id": "ioDLan4oV11F"
      },
      "outputs": [],
      "source": [
        "!git clone https://github.com/neuralchen/SimSwap"
      ]
    },
    {
      "cell_type": "markdown",
      "source": [
        "Install dependencies"
      ],
      "metadata": {
        "id": "wxUtuKucWMVp"
      }
    },
    {
      "cell_type": "code",
      "source": [
        "!pip install torch==1.11.0+cu113 torchvision==0.12.0+cu113 torchaudio===0.11.0+cu113 -f https://download.pytorch.org/whl/cu113/torch_stable.html"
      ],
      "metadata": {
        "id": "CHgIxg64WBYA"
      },
      "execution_count": null,
      "outputs": []
    },
    {
      "cell_type": "code",
      "source": [
        "!pip install insightface==0.2.1 moviepy onnxruntime-gpu==1.9.0"
      ],
      "metadata": {
        "id": "biVxCIT9WEA-"
      },
      "execution_count": null,
      "outputs": []
    },
    {
      "cell_type": "markdown",
      "source": [
        "# 1. Locate resources inside the file"
      ],
      "metadata": {
        "id": "cZ1pwli8WQtx"
      }
    },
    {
      "cell_type": "markdown",
      "source": [
        "1. Put onnx model inside insightface_func/models/antelope Link is [here](https://onedrive.live.com/?authkey=%21ADJ0aAOSsc90neY&cid=4A83B6B633B029CC&id=4A83B6B633B029CC%215837&parId=4A83B6B633B029CC%215834&action=locate)\n",
        "\n",
        "2. Put pth file inside parsing_model/checkpoint Link is [here](https://drive.google.com/file/d/154JgKpzCPW82qINcVieuPH3fZ2e0P812/view)\n",
        "\n",
        "3. Copy the arcface_checkpoint.tar into arcface_model - pw: jd2v Link is [here](https://drive.google.com/drive/folders/1jV6_0FIMPC53FZ2HzZNJZGMe55bbu17R?usp=sharing)\n",
        "\n",
        "4. Unzip checkpoints.zip, place it in the root dir ./checkpoints Link is [here](https://drive.google.com/drive/folders/1jV6_0FIMPC53FZ2HzZNJZGMe55bbu17R?usp=sharing)\n",
        "\n",
        "> Note: In general you should download 4 files and for step 3-4 files can be downloaded from one resource."
      ],
      "metadata": {
        "id": "n8F8s2pEWXlA"
      }
    },
    {
      "cell_type": "markdown",
      "source": [
        "# 2. Swap Images"
      ],
      "metadata": {
        "id": "phpMLaPAX6cn"
      }
    },
    {
      "cell_type": "markdown",
      "source": [
        "\n",
        "For this model you need 224x224 img. For my model I used my checkimg.jpg and swapped it to outputimg.jpg. Keep in mind that these images don't exist by default and you should add them. If you don't want to check model with custome images, you can use already given templates"
      ],
      "metadata": {
        "id": "Ka24SDl8YOlj"
      }
    },
    {
      "cell_type": "code",
      "source": [
        "%cd SimSwap & python test_one_image.py --name people --Arc_path arcface_model/arcface_checkpoint.tar --pic_a_path crop_224/checkimg.jpg --pic_b_path crop_224/outputimg.jpg --output_path output/ "
      ],
      "metadata": {
        "id": "f67-FFKKYADM"
      },
      "execution_count": null,
      "outputs": []
    },
    {
      "cell_type": "markdown",
      "source": [
        "# 2. Swap Videos"
      ],
      "metadata": {
        "id": "Dl2jK-eBYDXN"
      }
    },
    {
      "cell_type": "code",
      "source": [
        "%cd SimSwap & python test_video_swapsingle.py --crop_size 224 --use_mask --name people --Arc_path arcface_model/arcface_checkpoint.tar --pic_a_path ./videoswap/Iron_man.jpg --video_path ./videoswap/nick.mp4 --output_path ./videoswap/ironnick.mp4 --temp_path ./temp_results "
      ],
      "metadata": {
        "id": "9ntWMmOXYHVV"
      },
      "execution_count": null,
      "outputs": []
    },
    {
      "cell_type": "code",
      "source": [
        "%cd SimSwap & python test_video_swapsingle.py  --crop_size 224 --use_mask --name people --Arc_path arcface_model/arcface_checkpoint.tar --pic_a_path ./videoswap/Capture.png --video_path ./videoswap/rockhighres.mp4 --output_path ./videoswap/ironnick.mp4 --temp_path ./temp_results "
      ],
      "metadata": {
        "id": "nIyNZ1C_YKvi"
      },
      "execution_count": null,
      "outputs": []
    }
  ]
}